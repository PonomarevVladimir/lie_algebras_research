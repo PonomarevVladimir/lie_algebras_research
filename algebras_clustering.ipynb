{
 "cells": [
  {
   "cell_type": "code",
   "execution_count": 1,
   "metadata": {},
   "outputs": [
    {
     "name": "stdout",
     "output_type": "stream",
     "text": [
      "Затраченное время в секундах: 235.4055371284485\n"
     ]
    }
   ],
   "source": [
    "import pandas as pd\n",
    "from sklearn.cluster import KMeans\n",
    "import numpy as np\n",
    "import time\n",
    "\n",
    "now = time.time()\n",
    "\n",
    "df = pd.read_excel('algebras_new.xlsx')\n",
    "X = df.drop(['algebra_id', 'jk_inv'],axis=1)\n",
    "\n",
    "kmeans = KMeans(n_clusters=26, random_state=0).fit(X)\n",
    "\n",
    "df['kmeans26'] = kmeans.labels_\n",
    "\n",
    "df.to_excel('algebras_clustered.xlsx')\n",
    "\n",
    "print('Затраченное время в секундах:', time.time()-now )"
   ]
  },
  {
   "cell_type": "code",
   "execution_count": 5,
   "metadata": {},
   "outputs": [
    {
     "name": "stdout",
     "output_type": "stream",
     "text": [
      "Ранг: 2 \n",
      "Корреляция1:  -0.104 \n",
      "Корреляция2:  0.099\n"
     ]
    }
   ],
   "source": [
    "from numpy.linalg import matrix_rank\n",
    "from scipy.stats import spearmanr\n",
    "a = df['algebra_id']\n",
    "b = df['kmeans26']\n",
    "c = df['jk_inv']\n",
    "coef1, p1 = spearmanr(a, b)\n",
    "coef2, p2 = spearmanr(c, b)\n",
    "print('Ранг:', matrix_rank([a,b]),'\\nКорреляция1: ', '%.3f'%coef1,'\\nКорреляция2: ', '%.3f'%coef2)"
   ]
  },
  {
   "cell_type": "code",
   "execution_count": null,
   "metadata": {},
   "outputs": [],
   "source": []
  }
 ],
 "metadata": {
  "kernelspec": {
   "display_name": "Python 3",
   "language": "python",
   "name": "python3"
  },
  "language_info": {
   "codemirror_mode": {
    "name": "ipython",
    "version": 3
   },
   "file_extension": ".py",
   "mimetype": "text/x-python",
   "name": "python",
   "nbconvert_exporter": "python",
   "pygments_lexer": "ipython3",
   "version": "3.7.0"
  }
 },
 "nbformat": 4,
 "nbformat_minor": 2
}
